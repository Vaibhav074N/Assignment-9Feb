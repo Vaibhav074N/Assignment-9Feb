{
  "nbformat": 4,
  "nbformat_minor": 0,
  "metadata": {
    "colab": {
      "provenance": [],
      "authorship_tag": "ABX9TyMSji36UJ5UB+GHIddYRQf8",
      "include_colab_link": true
    },
    "kernelspec": {
      "name": "python3",
      "display_name": "Python 3"
    },
    "language_info": {
      "name": "python"
    }
  },
  "cells": [
    {
      "cell_type": "markdown",
      "metadata": {
        "id": "view-in-github",
        "colab_type": "text"
      },
      "source": [
        "<a href=\"https://colab.research.google.com/github/Vaibhav074N/Assignment-9Feb/blob/main/Assignment_9Feb.ipynb\" target=\"_parent\"><img src=\"https://colab.research.google.com/assets/colab-badge.svg\" alt=\"Open In Colab\"/></a>"
      ]
    },
    {
      "cell_type": "markdown",
      "source": [
        "######Q1."
      ],
      "metadata": {
        "id": "aKMimWG-vVNQ"
      }
    },
    {
      "cell_type": "code",
      "source": [
        "class vehical:\n",
        "    def __int__(self, vehical_name, max_speed, vehical_average):\n",
        "        self.vehical_name = vehical_name\n",
        "        self.max_speed = max_speed\n",
        "        self.vehical_average = vehical_average\n",
        "\n",
        "    def details(self):\n",
        "        return f\"vehical name is {self.vehical_name}, maximum speed is {self.max_speed} and average is {self.vehical_average}\"\n",
        "\n",
        "obj_v1=vehical()\n",
        "obj_v1.vehical_name='ford'\n",
        "obj_v1.max_speed='2000kmph'\n",
        "obj_v1.vehical_average=30\n",
        "print(obj_v1.details())\n",
        "\n",
        "v2=vehical()\n",
        "v2.vehical_name='lamborgani-urus'\n",
        "v2.max_speed='3000kmph'\n",
        "v2.vehical_average=32\n",
        "print(v2.details())\n"
      ],
      "metadata": {
        "colab": {
          "base_uri": "https://localhost:8080/"
        },
        "id": "22KNyG6jvY0y",
        "outputId": "a95d254a-5723-4ffd-b545-e45e81883684"
      },
      "execution_count": null,
      "outputs": [
        {
          "output_type": "stream",
          "name": "stdout",
          "text": [
            "vehical name is ford, maximum speed is 2000kmph and average is 30\n",
            "vehical name is lamborgani-urus, maximum speed is 3000kmph and average is 32\n"
          ]
        }
      ]
    },
    {
      "cell_type": "markdown",
      "source": [
        "######Q2."
      ],
      "metadata": {
        "id": "opIlhJF8vt7c"
      }
    },
    {
      "cell_type": "code",
      "source": [
        "\n",
        "class Vehicle:\n",
        "\n",
        "    def __init__(self, name, max_speed, average):\n",
        "        self.name = name\n",
        "        self.max_speed = max_speed\n",
        "        self.average = average\n",
        "\n",
        "    def seating_capacity(self, capacity):\n",
        "        return f\"The seating capacity of a {self.name} is {capacity} passengers\"\n",
        "\n",
        "class car(Vehicle):\n",
        "    pass\n",
        "\n",
        "School_car = car(\"School Volvo\", 180, 12)\n",
        "print(\"Vehicle Name:\", School_car.name, \"Speed:\", School_car.max_speed, \"average:\", School_car.average)\n",
        "print(Vehicle.seating_capacity(School_car,5))"
      ],
      "metadata": {
        "colab": {
          "base_uri": "https://localhost:8080/"
        },
        "id": "er5_8qBmvtjH",
        "outputId": "c795df95-7295-4f81-96fe-ec5d40b7d91c"
      },
      "execution_count": null,
      "outputs": [
        {
          "output_type": "stream",
          "name": "stdout",
          "text": [
            "Vehicle Name: School Volvo Speed: 180 average: 12\n",
            "The seating capacity of a School Volvo is 5 passengers\n"
          ]
        }
      ]
    },
    {
      "cell_type": "markdown",
      "source": [
        "#####Q3.\n",
        "#####Ans:\n",
        "#####When a class is derived from more than one base class it is called multiple Inheritance. The derived class inherits all the features of the base case."
      ],
      "metadata": {
        "id": "5xbnPgIgwKBJ"
      }
    },
    {
      "cell_type": "code",
      "source": [
        "class Person:\n",
        "    def person_info(self, name, age):\n",
        "        print('Inside Person class')\n",
        "        print('Name:', name, 'Age:', age)\n",
        "\n",
        "class Company:\n",
        "    def company_info(self, company_name, location):\n",
        "        print('Inside Company class')\n",
        "        print('Name:', company_name, 'location:', location)\n",
        "\n",
        "class Employee(Person, Company):\n",
        "    def Employee_info(self, salary, skill):\n",
        "        print('Inside Employee class')\n",
        "        print('Salary:', salary, 'Skill:', skill)\n",
        "\n",
        "emp = Employee()\n",
        "\n",
        "emp.person_info('Jessa', 28)\n",
        "emp.company_info('Google', 'Atlanta')\n",
        "emp.Employee_info(12000, 'Machine Learning')\n"
      ],
      "metadata": {
        "colab": {
          "base_uri": "https://localhost:8080/"
        },
        "id": "0JwUQsp5wLzh",
        "outputId": "422c1801-719d-4075-b33d-0d3cc84e41c4"
      },
      "execution_count": null,
      "outputs": [
        {
          "output_type": "stream",
          "name": "stdout",
          "text": [
            "Inside Person class\n",
            "Name: Jessa Age: 28\n",
            "Inside Company class\n",
            "Name: Google location: Atlanta\n",
            "Inside Employee class\n",
            "Salary: 12000 Skill: Machine Learning\n"
          ]
        }
      ]
    },
    {
      "cell_type": "markdown",
      "source": [
        "#####Q4.\n",
        "#####Ans:\n",
        "##### @property decorator is a built-in decorator in Python which is helpful in defining the properties effortlessly without manually calling the inbuilt function property(). Which is used to return the property attributes of a class from the stated getter, setter and deleter as parameters. \n",
        "##### Getter: A method that allows you to access an attribute in a given class\n",
        "##### Setter: A method that allows you to set or mutate the value of an attribute in a class"
      ],
      "metadata": {
        "id": "YHeh0PaqxT_3"
      }
    },
    {
      "cell_type": "code",
      "source": [
        "class pwskills:\n",
        "    \n",
        "    def __init__(self, course_price , course_name):\n",
        "        self.__course_price = course_price\n",
        "        self.course_name = course_name\n",
        "        \n",
        "    @property\n",
        "    def course_price_access(self):\n",
        "        return self.__course_price\n",
        "    \n",
        "    @course_price_access.setter\n",
        "    def course_price_set(self , price):\n",
        "        if price <= 4000:\n",
        "            pass\n",
        "        else :\n",
        "            self.__course_price = price\n",
        "            \n",
        "    @course_price_access.deleter \n",
        "    def course_price_del(self):\n",
        "        del  self.__course_price\n",
        "\n",
        "pw = pwskills(3500 , \"data science masters\")\n",
        "pw.course_name\n",
        "pw._pwskills__course_price"
      ],
      "metadata": {
        "colab": {
          "base_uri": "https://localhost:8080/"
        },
        "id": "nNU7ddq5xV6Q",
        "outputId": "f4dabddf-4a82-4d92-b0be-63aa01197cf6"
      },
      "execution_count": null,
      "outputs": [
        {
          "output_type": "execute_result",
          "data": {
            "text/plain": [
              "3500"
            ]
          },
          "metadata": {},
          "execution_count": 7
        }
      ]
    },
    {
      "cell_type": "code",
      "source": [
        "pw.course_price_set = 4500\n",
        "pw._pwskills__course_price"
      ],
      "metadata": {
        "colab": {
          "base_uri": "https://localhost:8080/"
        },
        "id": "xovbUUBX2Dg3",
        "outputId": "874f76ab-0db1-4f23-fdca-fe76b1636b9c"
      },
      "execution_count": null,
      "outputs": [
        {
          "output_type": "execute_result",
          "data": {
            "text/plain": [
              "4500"
            ]
          },
          "metadata": {},
          "execution_count": 8
        }
      ]
    },
    {
      "cell_type": "code",
      "source": [
        "class Myclass:\n",
        "  def __init__(self, value):\n",
        "    self._value = value\n",
        "  def show(self):\n",
        "    return (f\"value is {self._value}\")\n",
        "  @property\n",
        "  def i_value(self):\n",
        "    return 10* self._value\n",
        "  @i_value.setter\n",
        "  def i_value(self, new_value):\n",
        "    self._value = new_value/10\n",
        "\n",
        "obj = Myclass(10)\n",
        "print(obj.show())"
      ],
      "metadata": {
        "colab": {
          "base_uri": "https://localhost:8080/"
        },
        "id": "cBqOmmZIwczC",
        "outputId": "83b3cfd3-a76a-4266-b01c-99051777e323"
      },
      "execution_count": 3,
      "outputs": [
        {
          "output_type": "stream",
          "name": "stdout",
          "text": [
            "value is 10\n"
          ]
        }
      ]
    },
    {
      "cell_type": "code",
      "source": [
        "obj.i_value=74\n",
        "print(obj.i_value)\n",
        "print(obj.show())"
      ],
      "metadata": {
        "colab": {
          "base_uri": "https://localhost:8080/"
        },
        "id": "WMgWAStZyD-v",
        "outputId": "c05688fa-3781-4d8a-d43d-88943c51de4d"
      },
      "execution_count": 5,
      "outputs": [
        {
          "output_type": "stream",
          "name": "stdout",
          "text": [
            "74.0\n",
            "value is 7.4\n"
          ]
        }
      ]
    },
    {
      "cell_type": "markdown",
      "source": [
        "######Q5.\n",
        "#####Ans:\n",
        "##### Method overriding is an ability of any object-oriented programming language that allows a subclass or child class to provide a specific implementation of a method that is already provided by one of its super-classes or parent classes. When a method in a subclass has the same name, same parameters or signature and same return type(or sub-type) as a method in its super-class, then the method in the subclass is said to override the method in the super-class.\n",
        "\n",
        "##### method overriding is a ppowerful feature in object oriented programming that allows you to redefine a method in a derived class. The method in derived class is said to overridde the method in the base class. When you create an instance of the derived class and call the overridden method,the version of the method in the derived class is executed, rather than the version in the base class.\n",
        "\n",
        "##### In python,method overriding is a way to customize the behavior of a class based on its specific needs."
      ],
      "metadata": {
        "id": "20v1Tu9bzxen"
      }
    },
    {
      "cell_type": "code",
      "source": [
        "class Shape:\n",
        "  def __init__(self, x, y):\n",
        "    self.x = x\n",
        "    self.y = y\n",
        "  def area(self):\n",
        "    return \"Area of rectangle is {}\".format(self.x * self.y)\n",
        "\n",
        "class Circle(Shape):\n",
        "  def __init__(self, radius):\n",
        "    self.radius = radius\n",
        "  def area(self):\n",
        "    return 3.14*self.radius*self.radius"
      ],
      "metadata": {
        "id": "DbKLSTgDz3F6"
      },
      "execution_count": null,
      "outputs": []
    },
    {
      "cell_type": "code",
      "source": [
        "r=Shape(2,6)\n",
        "print(r.area())\n",
        "\n",
        "obj=Circle(5)\n",
        "print(obj.area())"
      ],
      "metadata": {
        "colab": {
          "base_uri": "https://localhost:8080/"
        },
        "id": "9HL4AlOH2c7b",
        "outputId": "b24bbcfe-7f34-4e5c-df1b-503d09bef7e4"
      },
      "execution_count": 29,
      "outputs": [
        {
          "output_type": "stream",
          "name": "stdout",
          "text": [
            "Area of rectangle is 12\n",
            "78.5\n"
          ]
        }
      ]
    }
  ]
}